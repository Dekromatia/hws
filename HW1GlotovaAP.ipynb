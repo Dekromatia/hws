{
 "cells": [
  {
   "cell_type": "markdown",
   "metadata": {
    "id": "_YIjzjP2-bJM"
   },
   "source": [
    "# Задание 1"
   ]
  },
  {
   "cell_type": "markdown",
   "metadata": {
    "id": "HGy4Bm0W-dTS"
   },
   "source": [
    "## Часть 1"
   ]
  },
  {
   "cell_type": "markdown",
   "metadata": {
    "id": "Y5BfDl1c-hjg"
   },
   "source": [
    "Напишите такой класс Animal, чтобы при вызове его классового метода get_heighest() возвращался рост самого высокого из экземпляров"
   ]
  },
  {
   "cell_type": "code",
   "execution_count": 6,
   "metadata": {
    "id": "hm2-cMQN-tj_"
   },
   "outputs": [],
   "source": [
    "class Animal():\n",
    "    all_h = []\n",
    "    \n",
    "    # max_h = max([a1.height, a2.height, a3.height, a4.height]) чет я не доперла можно ли без списка это реализовать\n",
    "    # max_h = max([self.height])\n",
    "\n",
    "    def __init__(self, name, height):\n",
    "        self.name = name\n",
    "        self.height = height\n",
    "        Animal.all_h.append(height)\n",
    "    \n",
    "\n",
    "    def speak(self):\n",
    "        print(\"BLA BLA BLA\")\n",
    "        \n",
    "    @classmethod\n",
    "    def get_highest(cls):\n",
    "        # max_h = max(h)\n",
    "        return max(Animal.all_h)"
   ]
  },
  {
   "cell_type": "code",
   "execution_count": 7,
   "metadata": {
    "id": "7pu3innD_Go9"
   },
   "outputs": [],
   "source": [
    "a1 = Animal(\"Alex\", 200) #экземпляры класса присвоение атрибутов\n",
    "a2 = Animal(\"Melman\", 400)\n",
    "a3 = Animal(\"King Julien XIII\", 40)\n",
    "a4 = Animal(\"Maurice\", 40)\n",
    "assert Animal.get_highest() == 400"
   ]
  },
  {
   "cell_type": "code",
   "execution_count": 8,
   "metadata": {},
   "outputs": [
    {
     "name": "stdout",
     "output_type": "stream",
     "text": [
      "BLA BLA BLA\n"
     ]
    }
   ],
   "source": [
    "a2.speak()"
   ]
  },
  {
   "cell_type": "code",
   "execution_count": 9,
   "metadata": {},
   "outputs": [
    {
     "data": {
      "text/plain": [
       "'Melman'"
      ]
     },
     "execution_count": 9,
     "metadata": {},
     "output_type": "execute_result"
    }
   ],
   "source": [
    "a2.name"
   ]
  },
  {
   "cell_type": "markdown",
   "metadata": {
    "id": "tWP04-tV-fCO"
   },
   "source": [
    "## Часть 2"
   ]
  },
  {
   "cell_type": "markdown",
   "metadata": {
    "id": "i7G11R4vAGmM"
   },
   "source": [
    "Все же считать всех животных просто.. животными это странно. Давайте заведем каждому животному по своему классу, унаследовавшись от класса Animal, при этом сделайте так, чтобы при сравнении двух животных только для животных одного вида возвращалось True"
   ]
  },
  {
   "cell_type": "code",
   "execution_count": 10,
   "metadata": {
    "id": "ubVsEaQnAFxb"
   },
   "outputs": [],
   "source": [
    "class Lion(Animal):\n",
    "    \n",
    "    def __init__(self, name, height, genus=\"pantera\"):\n",
    "        Animal.__init__(self, name, height)\n",
    "        \n",
    "        self.genus  = genus\n",
    "    def __eq__(self, other):\n",
    "        return self.genus == other.genus\n",
    "    \n",
    "class Lemur(Animal):\n",
    "    def __init__(self, name, height, genus=\"lemur\"):\n",
    "        Animal.__init__(self, name, height)  \n",
    "        \n",
    "        self.genus  = genus\n",
    "    def __eq__(self, other):\n",
    "        return self.genus == other.genus\n",
    "\n",
    "class Giraffe(Animal):\n",
    "    \n",
    "    def __init__(self, name, height, genus=\"giraffa\"):\n",
    "        Animal.__init__(self, name, height)  \n",
    "        \n",
    "        self.genus  = genus\n",
    "    def __eq__(self, other):\n",
    "        return self.genus == other.genus\n"
   ]
  },
  {
   "cell_type": "code",
   "execution_count": 11,
   "metadata": {
    "id": "-UVYKiOUA2f0"
   },
   "outputs": [],
   "source": [
    "a1 = Lion(\"Alex\", 200)\n",
    "a2 = Giraffe(\"Melman\", 400)\n",
    "a3 = Lemur(\"King Julien XIII\", 40)\n",
    "a4 = Lemur(\"Maurice\", 40)\n",
    "assert a4 == a3\n",
    "assert a1 != a2\n",
    "assert a2 != a4"
   ]
  },
  {
   "cell_type": "markdown",
   "metadata": {
    "id": "xtvFEu1m-fp2"
   },
   "source": [
    "## Часть 3"
   ]
  },
  {
   "cell_type": "markdown",
   "metadata": {
    "id": "ZCDkRnrFB9cJ"
   },
   "source": [
    "Это все здорово, но как-то неправильно, что класс Animal имеет метод speak, а классы-потомки не определяют свою реализацию. Давайте сделаем так, чтобы все виды животных были обязаны иметь свою реализацию метода speak, но просто animal'ов уже у нас не было"
   ]
  },
  {
   "cell_type": "code",
   "execution_count": 21,
   "metadata": {
    "id": "EEik9OisB8_u"
   },
   "outputs": [],
   "source": [
    "from abc import ABC\n",
    "from abc import abstractmethod\n",
    "\n",
    "class Animal(ABC):\n",
    "    def __init__(self):\n",
    "        super().__init__()\n",
    "        pass\n",
    "    @abstractmethod\n",
    "    def speak(self):\n",
    "        print(\"\")\n",
    "    pass\n",
    "\n",
    "    @classmethod\n",
    "    def get_highest(cls):\n",
    "        pass    \n",
    "\n",
    "class Lion(Animal):\n",
    "    def __init__(self, name, height):\n",
    "        self.name = name\n",
    "        self.height = height\n",
    "        \n",
    "    def speak(self):\n",
    "        print(\"rrrrr\")\n",
    "\n",
    "class Lemur(Animal):\n",
    "    def __init__(self, name, height):\n",
    "        self.name = name\n",
    "        self.height = height\n",
    "        \n",
    "    def speak(self):\n",
    "        print(\"yyyyyyy\")\n",
    "\n",
    "\n",
    "class Giraffe(Animal):\n",
    "    def __init__(self, name, height):\n",
    "        self.name = name\n",
    "        self.height = height\n",
    "        \n",
    "    def speak(self):\n",
    "        print(\"xrxrxrxrxx\")\n"
   ]
  },
  {
   "cell_type": "code",
   "execution_count": 22,
   "metadata": {
    "colab": {
     "base_uri": "https://localhost:8080/"
    },
    "id": "tLY5yBMHCmZ8",
    "outputId": "73a4786d-1e21-4f1f-c952-c2bb173d70e1"
   },
   "outputs": [
    {
     "name": "stderr",
     "output_type": "stream",
     "text": [
      "----------------------------------------------------------------------\n",
      "Ran 3 tests in 0.000s\n",
      "\n",
      "OK\n"
     ]
    },
    {
     "name": "stdout",
     "output_type": "stream",
     "text": [
      "0\n",
      "rrrrr\n",
      "xrxrxrxrxx\n",
      "yyyyyyy\n",
      "yyyyyyy\n"
     ]
    },
    {
     "data": {
      "text/plain": [
       "<unittest.main.TestProgram at 0x14c4b503750>"
      ]
     },
     "execution_count": 22,
     "metadata": {},
     "output_type": "execute_result"
    }
   ],
   "source": [
    "import unittest\n",
    "from contextlib import contextmanager\n",
    "\n",
    "class AnimalTestCase(unittest.TestCase):\n",
    "  @contextmanager\n",
    "  def assertNotRaises(self, exc_type):\n",
    "    print(0)\n",
    "    try:\n",
    "      yield None\n",
    "    except exc_type:\n",
    "      raise self.failureException('{} raised'.format(exc_type.__name__))\n",
    "\n",
    "  def test_create_animal_instance(self):\n",
    "    with self.assertRaises(TypeError):\n",
    "      a = Animal(\"\", 0)\n",
    "  \n",
    "  def test_create_zebra(self):\n",
    "    with self.assertRaises(TypeError):\n",
    "      class Zebra(Animal):\n",
    "        pass\n",
    "      a = Zebra(\"\", 0)\n",
    "  \n",
    "  def test_create_animals(self):\n",
    "    with self.assertNotRaises(TypeError):\n",
    "      a1 = Lion(\"Alex\", 200)\n",
    "      a2 = Giraffe(\"Melman\", 400)\n",
    "      a3 = Lemur(\"King Julien XIII\", 40)\n",
    "      a4 = Lemur(\"Maurice\", 40)\n",
    "      a1.speak()\n",
    "      a2.speak()\n",
    "      a3.speak()\n",
    "      a4.speak()\n",
    "\n",
    "unittest.main(argv=[''], verbosity=0, exit=False)"
   ]
  },
  {
   "cell_type": "markdown",
   "metadata": {
    "id": "qDLskPaVFmEi"
   },
   "source": [
    "Вы должны увидеть такой результат\n",
    "\n",
    "0\n",
    "----------------------------------------------------------------------\n",
    "Ran 3 tests in 0.002s\n",
    "\n",
    "OK\n",
    "<unittest.main.TestProgram at 0x7f081faf2190>"
   ]
  },
  {
   "cell_type": "markdown",
   "metadata": {
    "id": "iEna-ueV-Phw"
   },
   "source": [
    "# Задание 2"
   ]
  },
  {
   "cell_type": "markdown",
   "metadata": {
    "id": "no7ko6P5pTAf"
   },
   "source": [
    "## Исходные данные"
   ]
  },
  {
   "cell_type": "markdown",
   "metadata": {
    "id": "rkXrdpzoguGi"
   },
   "source": [
    "Представим ситуацию, что вы нашли где-то целый архив с файлами переводов и решили обработать эти файлы.  Проблема в том, что все файлы имеют разные форматы:"
   ]
  },
  {
   "cell_type": "code",
   "execution_count": 45,
   "metadata": {
    "id": "Z5_PlvHeggav"
   },
   "outputs": [],
   "source": [
    "#.xliff\n",
    "file1 = '''\n",
    "<?xml version=\"1.0\" encoding=\"UTF-8\"?>\n",
    "<xliff version=\"1.2\"\n",
    "  xmlns=\"urn:oasis:names:tc:xliff:document:1.2\"\n",
    "  xmlns:xsi=\"http://www.w3.org/2001/XMLSchema-instance\"\n",
    "  xsi:schemaLocation=\"urn:oasis:names:tc:xliff:document:1.2 xliff-core-1.2-strict.xsd\">\n",
    "<file original=\"sample.properties\"\n",
    "  source-language=\"en\" target-language=\"de-AT\"\n",
    "  datatype=\"javapropertyresourcebundle\">\n",
    "<body>\n",
    "   <trans-unit id=\"1\" resname=\"welcome\">\n",
    "      <source xml:lang=\"en\">Hooray, you're here! The day just got better - enjoy the following tips!</source>\n",
    "      <target xml:lang=\"de-AT\">Hurra, du bist hier! Der Tag ist gerettet - nutze die folgenden Tipps!</target>\n",
    "   </trans-unit>\n",
    "   <trans-unit id=\"2\" resname=\"text_segment\">\n",
    "      <source xml:lang=\"en\">A section of text like this is known as a text segment. Start rockin' your translations now!</source>\n",
    "      <target xml:lang=\"de-AT\">Eine Textpassage wie diese bezeichnen wir als Textsegment. Starte jetzt mit deinen Übersetzungen durch!</target>\n",
    "   </trans-unit>\n",
    "   <trans-unit id=\"3\" resname=\"tab_shortcut\">\n",
    "      <source xml:lang=\"en\">Arriba, Arriba! Andale, Andale! Be fast as Speedy Gonzales. Just hit TAB to save and go to the next text segment, once you're done.</source>\n",
    "      <target xml:lang=\"de-AT\">Arriba, Arriba! Andale, Andale! Sei schneller als Speedy Gonzales. Springe mit TAB ins nächste Textsegment, sobald du fertig bist. Deine Änderungen werden automatisch gespeichert.</target>\n",
    "   </trans-unit>\n",
    "   <trans-unit id=\"4\" resname=\"love\">\n",
    "      <source xml:lang=\"en\">Made with ❤</source>\n",
    "      <target xml:lang=\"de-AT\">❤</target>\n",
    "      <note>lh-check { min: 10, max: 15 }</note>\n",
    "   </trans-unit>\n",
    "</body>\n",
    "</file>\n",
    "</xliff>\n",
    "'''\n",
    "\n",
    "#.po\n",
    "file2 = '''\n",
    "msgid \"\"\n",
    "msgstr \"\"\n",
    "\"Project-Id-Version: LingoHub 2.2.4\\n\"\n",
    "\"Report-Msgid-Bugs-To: \\n\"\n",
    "\"POT-Creation-Date: 2015-03-05 19:22+0200\\n\"\n",
    "\"PO-Revision-Date: 2015-04-29 10:16+0100\\n\"\n",
    "\"Last-Translator: Translator <translator@lingohub.com>\\n\"\n",
    "\"MIME-Version: 1.0\\n\"\n",
    "\"Content-Type: text/plain; charset=UTF-8\\n\"\n",
    "\"Content-Transfer-Encoding: 8bit\\n\"\n",
    "\"Plural-Forms: nplurals=2; plural=n>1;\\n\"\n",
    "\n",
    "msgid \"Hooray, you're here! The day just got better - enjoy the following tips!\"\n",
    "msgstr \"Hurra, du bist hier! Der Tag ist gerettet - nutze die folgenden Tipps!\"\n",
    "\n",
    "msgid \"A section of text like this is known as a text segment. Start rockin' your translations now!\"\n",
    "msgstr \"Eine Textpassage wie diese bezeichnen wir als Textsegment. Starte jetzt mit deinen Übersetzungen durch!\"\n",
    "\n",
    "msgid \"Arriba, Arriba! Andale, Andale! Be fast as Speedy Gonzales. Just hit TAB to save and go to the next text segment, once you're done.\"\n",
    "msgstr \"Arriba, Arriba! Andale, Andale! Sei schneller als Speedy Gonzales. Springe mit TAB ins nächste Textsegment, sobald du fertig bist. Deine Änderungen werden automatisch gespeichert.\"\n",
    "\n",
    "msgid \"Made with ❤\"\n",
    "msgstr \"❤\"\n",
    "'''\n",
    "\n",
    "#.po\n",
    "file3 = '''\n",
    "msgid \"\"\n",
    "msgstr \"\"\n",
    "\"Project-Id-Version: LingoHub 2.2.4\\n\"\n",
    "\"Report-Msgid-Bugs-To: \\n\"\n",
    "\"POT-Creation-Date: 2015-03-05 19:22+0200\\n\"\n",
    "\"PO-Revision-Date: 2015-04-29 10:16+0100\\n\"\n",
    "\"Last-Translator: Translator <translator@lingohub.com>\\n\"\n",
    "\"MIME-Version: 1.0\\n\"\n",
    "\"Content-Type: text/plain; charset=UTF-8\\n\"\n",
    "\"Content-Transfer-Encoding: 8bit\\n\"\n",
    "\"Plural-Forms: nplurals=2; plural=n>1;\\n\"\n",
    "\n",
    "msgid \"Hooray, you're here! The day just got better - enjoy the following tips!\"\n",
    "msgstr \"Hurrah, tu es là. Ça fait une bonne journée - profite des renseignements suivants !\"\n",
    "\n",
    "msgid \"A section of text like this is known as a text segment. Start rockin' your translations now!\"\n",
    "msgstr \"Un tel extrait est qualifié de segment du texte chez nous. C’est parti – commence tes traductions tout de suite/maintenant !\"\n",
    "\n",
    "msgid \"Arriba, Arriba! Andale, Andale! Be fast as Speedy Gonzales. Just hit TAB to save and go to the next text segment, once you're done.\"\n",
    "msgstr \"Arriba, Arriba ! Andale, Andale ! Prends Speedy Gonzales de vitesse. Appuie sur TAB pour sauvegarder et continuer avec le segment prochain dès que tu as fini.\"\n",
    "\n",
    "msgid \"We just like to see you happy, that's why LingoChecks automatically check translations for predetermined criteria.\\n Among other checks LingoHub verifies if %s used in the original text are also present in translated texts.\"\n",
    "msgstr \"Bazinga !\"\n",
    "\n",
    "msgid \"Made with ❤\"\n",
    "msgstr \"❤\"\n",
    "'''\n",
    "\n",
    "# .ts\n",
    "file4 = '''\n",
    "<?xml version=\"1.0\" encoding=\"utf-8\"?>\n",
    "<!DOCTYPE TS>\n",
    "<TS version=\"2.1\" language=\"de_AT\">\n",
    "<context>\n",
    "    <name>examples</name>\n",
    "    <message>\n",
    "        <source>Hooray, you're here! The day just got better - enjoy the following tips!</source>\n",
    "        <translation>Hurra, du bist hier! Der Tag ist gerettet - nutze die folgenden Tipps!</translation>\n",
    "    </message>\n",
    "    <message>\n",
    "        <source>A section of text like this is known as a text segment. Start rockin' your translations now!</source>\n",
    "\t      <translation>Eine Textpassage wie diese bezeichnen wir als Textsegment. Starte jetzt mit deinen Übersetzungen durch!</translation>\n",
    "    </message>\n",
    "    <message>\n",
    "        <source>Arriba, Arriba! Andale, Andale! Be fast as Speedy Gonzales. Just hit TAB to save and go to the next text segment, once you're done.</source>\n",
    "\t      <translation>Arriba, Arriba! Andale, Andale! Sei schneller als Speedy Gonzales. Springe mit TAB ins nächste Textsegment, sobald du fertig bist. Deine Änderungen werden automatisch gespeichert.</translation>\n",
    "    </message>\n",
    "    <message>\n",
    "        <source>Made with ❤</source>\n",
    "        <translation>❤</translation>\n",
    "        <comment>lh-check { min: 10, max: 15 }</comment>\n",
    "    </message>\n",
    "</context>\n",
    "</TS>\n",
    "'''\n",
    "\n",
    "# .ts\n",
    "file5 = '''\n",
    "<?xml version=\"1.0\" encoding=\"utf-8\"?>\n",
    "<!DOCTYPE TS>\n",
    "<TS version=\"2.1\" language=\"fr\">\n",
    "<context>\n",
    "    <name>examples</name>\n",
    "    <message>\n",
    "        <source>Hooray, you're here! The day just got better - enjoy the following tips!</source>\n",
    "        <translation>Hurrah, tu es là. Ça fait une bonne journée - profite des renseignements suivants !</translation>\n",
    "    </message>\n",
    "    <message>\n",
    "        <source>A section of text like this is known as a text segment. Start rockin' your translations now!</source>\n",
    "\t      <translation>Un tel extrait est qualifié de segment du texte chez nous. C’est parti – commence tes traductions tout de suite/maintenant !</translation>\n",
    "    </message>\n",
    "    <message>\n",
    "        <source>Arriba, Arriba! Andale, Andale! Be fast as Speedy Gonzales. Just hit TAB to save and go to the next text segment, once you're done.</source>\n",
    "\t      <translation>Arriba, Arriba ! Andale, Andale ! Prends Speedy Gonzales de vitesse. Appuie sur TAB pour sauvegarder et continuer avec le segment prochain dès que tu as fini.</translation>\n",
    "    </message>\n",
    "    <message>\n",
    "        <source>Made with ❤</source>\n",
    "        <translation>❤</translation>\n",
    "        <comment>lh-check { min: 10, max: 15 }</comment>\n",
    "    </message>\n",
    "</context>\n",
    "</TS>\n",
    "'''"
   ]
  },
  {
   "cell_type": "markdown",
   "metadata": {
    "id": "alF6cGlUpOkk"
   },
   "source": [
    "## Часть 1"
   ]
  },
  {
   "cell_type": "markdown",
   "metadata": {
    "id": "GeRBQqq9oMX1"
   },
   "source": [
    "Мы хотим:\n",
    "- уметь распарсить файлы разного вида\n",
    "- уметь переводить файлы из одного формата в другой\n",
    "- для тех форматов, где язык не указан, хотим вызывать какой-то метод/функцию для определения языка\n",
    "- уметь собирать статистику над файлами всех форматов (что-то типа \"а посчиатйте мне, сколько раз среди заданного куска массива с файлами переводов какой язык встречается\")"
   ]
  },
  {
   "cell_type": "code",
   "execution_count": null,
   "metadata": {
    "id": "Hv360SzqIHUp"
   },
   "outputs": [],
   "source": [
    "from langdetect import detect, DetectorFactory\n",
    "DetectorFactory.seed = 0\n",
    "import re\n",
    "\n",
    "class xliff():\n",
    "    def __init__(self, text):\n",
    "        self.text = ''.join(file5.split('\\n')).replace('\\t','').strip()\n",
    "        self.language_src = None\n",
    "        self.language_tgt = None\n",
    "\n",
    "    def define_langugage(self):\n",
    "        arg = re.findall(r'{language:(.*)}', ''.join(self.text.split('\\n')).replace('\\t','').strip())\n",
    "        if arg:\n",
    "            self.language = arg[0]\n",
    "        else:\n",
    "            self.language = None\n",
    "            return self.language\n",
    "\n",
    "    def define_language(self):\n",
    "        return detect(self.text)\n",
    "\n",
    "\n",
    "class po():\n",
    "    def __init__(self, text):\n",
    "        self.text = re.sub(\"\\'|\\n|\\\"\" ,'', ''.join(re.split('msgid|msgstr', text)[3:])) \n",
    "        self.language_src = None\n",
    "        self.language_tgt = None\n",
    "\n",
    "    def text_to_xliff(self):\n",
    "        # convert po to xliff using ...\n",
    "        xliff = []\n",
    "        for x in self.text.split('\\n'):\n",
    "            i = '      ' + x\n",
    "            xliff = '\\n'.join(i)\n",
    "        return \"\"\n",
    "\n",
    "    def define_language(self):\n",
    "        source_example = re.findall('msgid .*\\n', self.text)\n",
    "        source_language = detect(''.join(source_example))\n",
    "        # use a model to define language using source_example\n",
    "        target_example = re.findall('msgstr .*\\n', self.text)\n",
    "        target_language = detect(''.join(target_example))\n",
    "        # use a model to define language using source_example\n",
    "        \n",
    "        return (source_language, target_language)\n"
   ]
  },
  {
   "cell_type": "code",
   "execution_count": 53,
   "metadata": {},
   "outputs": [
    {
     "data": {
      "text/plain": [
       "' Hooray, youre here! The day just got better - enjoy the following tips! Hurrah, tu es là. Ça fait une bonne journée - profite des renseignements suivants ! A section of text like this is known as a text segment. Start rockin your translations now! Un tel extrait est qualifié de segment du texte chez nous. C’est parti – commence tes traductions tout de suite/maintenant ! Arriba, Arriba! Andale, Andale! Be fast as Speedy Gonzales. Just hit TAB to save and go to the next text segment, once youre done. Arriba, Arriba ! Andale, Andale ! Prends Speedy Gonzales de vitesse. Appuie sur TAB pour sauvegarder et continuer avec le segment prochain dès que tu as fini. We just like to see you happy, thats why LingoChecks automatically check translations for predetermined criteria. Among other checks LingoHub verifies if %s used in the original text are also present in translated texts. Bazinga ! Made with ❤ ❤'"
      ]
     },
     "execution_count": 56,
     "metadata": {},
     "output_type": "execute_result"
    }
   ],
   "source": [
    "po(file3).text"
   ]
  },
  {
   "cell_type": "code",
   "execution_count": 49,
   "metadata": {},
   "outputs": [
    {
     "data": {
      "text/plain": [
       "' Hooray, youre here! The day just got better - enjoy the following tips! Hurrah, tu es là. Ça fait une bonne journée - profite des renseignements suivants ! A section of text like this is known as a text segment. Start rockin your translations now! Un tel extrait est qualifié de segment du texte chez nous. C’est parti – commence tes traductions tout de suite/maintenant ! Arriba, Arriba! Andale, Andale! Be fast as Speedy Gonzales. Just hit TAB to save and go to the next text segment, once youre done. Arriba, Arriba ! Andale, Andale ! Prends Speedy Gonzales de vitesse. Appuie sur TAB pour sauvegarder et continuer avec le segment prochain dès que tu as fini. We just like to see you happy, thats why LingoChecks automatically check translations for predetermined criteria. Among other checks LingoHub verifies if %s used in the original text are also present in translated texts. Bazinga ! Made with ❤ ❤'"
      ]
     },
     "execution_count": 57,
     "metadata": {},
     "output_type": "execute_result"
    }
   ],
   "source": [
    "po(file3).text"
   ]
  },
  {
   "cell_type": "markdown",
   "metadata": {
    "id": "9vl07cDVpN9P"
   },
   "source": [
    "# Часть 2"
   ]
  },
  {
   "cell_type": "markdown",
   "metadata": {
    "id": "0FM84jTLpbyx"
   },
   "source": [
    "Мы нашли еще данных, но уже в других форматах:"
   ]
  },
  {
   "cell_type": "code",
   "execution_count": null,
   "metadata": {
    "id": "gjJ8QpLCpk_k"
   },
   "outputs": [],
   "source": [
    "# .csv\n",
    "file6 = '''\n",
    "\"Title\",\"Description\",\"en\", \"de-AT\"\n",
    "\"welcome\",,\"Hooray, you're here! The day just got better - enjoy the following tips!\", \"Hurra, du bist hier! Der Tag ist gerettet - nutze die folgenden Tipps!\"\n",
    "\"text_segment\",,\"A section of text like this is known as a text segment. Start rockin' your translations now!\", \"Eine Textpassage wie diese bezeichnen wir als Textsegment. Starte jetzt mit deinen Übersetzungen durch!\"\n",
    "\"tab_shortcut\",,\"Arriba, Arriba! Andale, Andale! Be fast as Speedy Gonzales. Just hit TAB to save and go to the next text segment, once you're done.\", \"Arriba, Arriba! Andale, Andale! Sei schneller als Speedy Gonzales. Springe mit TAB ins nächste Textsegment, sobald du fertig bist. Deine Änderungen werden automatisch gespeichert.\"\n",
    "\"love\",\"lh-check { max: 15, min: 10 }\",\"Made with ❤\", \"❤\"\n",
    "'''\n",
    "\n",
    "# .resw\n",
    "file7_1 = '''\n",
    "<?xml version=\"1.0\" encoding=\"utf-8\"?>\n",
    "<root>\n",
    "  <data name=\"welcome\" xml:space=\"preserve\">\n",
    "    <value>Hooray, you're here! The day just got better - enjoy the following tips!</value>\n",
    "  </data>\n",
    "  <data name=\"text_segment\" xml:space=\"preserve\">\n",
    "    <value>A section of text like this is known as a text segment. Start rockin' your translations now!</value>\n",
    "  </data>\n",
    "  <data name=\"tab_shortcut\" xml:space=\"preserve\">\n",
    "    <value>Arriba, Arriba! Andale, Andale! Be fast as Speedy Gonzales. Just hit TAB to save and go to the next text segment, once you're done.</value>\n",
    "  </data>\n",
    "  <data name=\"love\">\n",
    "    <value>Made with ❤</value>\n",
    "    <comment>lh-check { min: 10, max: 15 }</comment>\n",
    "  </data>\n",
    "</root>\n",
    "'''\n",
    "\n",
    "file7_2 = '''\n",
    "<?xml version=\"1.0\" encoding=\"utf-8\"?>\n",
    "<root>\n",
    "  <data name=\"welcome\" xml:space=\"preserve\">\n",
    "    <value>Hurrah, tu es là. Ça fait une bonne journée - profite des renseignements suivants !</value>\n",
    "  </data>\n",
    "  <data name=\"text_segment\" xml:space=\"preserve\">\n",
    "    <value>Un tel extrait est qualifié de segment du texte chez nous. C’est parti – commence tes traductions tout de suite/maintenant !</value>\n",
    "  </data>\n",
    "  <data name=\"tab_shortcut\" xml:space=\"preserve\">\n",
    "    <value>Arriba, Arriba ! Andale, Andale ! Prends Speedy Gonzales de vitesse. Appuie sur TAB pour sauvegarder et continuer avec le segment prochain dès que tu as fini.</value>\n",
    "  </data>\n",
    "  <data name=\"love\" xml:space=\"preserve\">\n",
    "    <value>❤</value>\n",
    "  </data>\n",
    "</root>\n",
    "'''\n",
    "\n",
    "# .php\n",
    "file8_1 = '''\n",
    "<?php\n",
    "  define(\"welcome\", \"Hooray, you're here! The day just got better - enjoy the following tips!\");\n",
    "\n",
    "  define(\"text_segment\", \"A section of text like this is known as a text segment. Start rockin' your translations now!\");\n",
    "\n",
    "  define(\"tab_shortcut\", \"Arriba, Arriba! Andale, Andale! Be fast as Speedy Gonzales. Just hit TAB to save and go to the next text segment, once you're done.\");\n",
    "\n",
    "  # lh-check { min: 10, max: 15 }\n",
    "  define(\"love\", \"Made with ❤\");\n",
    "?>\n",
    "'''\n",
    "\n",
    "file8_2 = '''\n",
    "<?php\n",
    "  define(\"welcome\", \"Hurra, du bist hier! Der Tag ist gerettet - nutze die folgenden Tipps!\");\n",
    "\n",
    "  define(\"text_segment\", \"Eine Textpassage wie diese bezeichnen wir als Textsegment. Starte jetzt mit deinen Übersetzungen durch!\");\n",
    "\n",
    "  define(\"tab_shortcut\", \"Arriba, Arriba! Andale, Andale! Sei schneller als Speedy Gonzales. Springe mit TAB ins nächste Textsegment, sobald du fertig bist. Deine Änderungen werden automatisch gespeichert.\");\n",
    "\n",
    "  define(\"love\", \"❤\");\n",
    "?>\n",
    "'''"
   ]
  },
  {
   "cell_type": "markdown",
   "metadata": {
    "id": "UZN5incJsN0X"
   },
   "source": [
    "Как изменится ваша модель классов для того, чтобы поддержать новые форматы?"
   ]
  },
  {
   "cell_type": "code",
   "execution_count": null,
   "metadata": {
    "id": "tsRHBbcKLAXm"
   },
   "outputs": [],
   "source": [
    "class single_file_trans():\n",
    "  def parse_file(self, path_to_file):\n",
    "    pass\n",
    "\n",
    "class xliff(single_file_trans):\n",
    "  pass\n",
    "\n",
    "class double_file_trans():\n",
    "  def parse_file(self, path_to_file_2, path_to_file_2):\n",
    "    pass\n",
    "  pass\n",
    "\n",
    "class php(double_file_trans):\n",
    "  def __init__(self, path1, path2):\n",
    "    self.text = \"\"\n",
    "    # use super().parse_file(path1, path2)"
   ]
  },
  {
   "cell_type": "code",
   "execution_count": null,
   "metadata": {},
   "outputs": [],
   "source": []
  }
 ],
 "metadata": {
  "colab": {
   "provenance": []
  },
  "kernelspec": {
   "display_name": "Python 3 (ipykernel)",
   "language": "python",
   "name": "python3"
  },
  "language_info": {
   "codemirror_mode": {
    "name": "ipython",
    "version": 3
   },
   "file_extension": ".py",
   "mimetype": "text/x-python",
   "name": "python",
   "nbconvert_exporter": "python",
   "pygments_lexer": "ipython3",
   "version": "3.11.1"
  }
 },
 "nbformat": 4,
 "nbformat_minor": 4
}
